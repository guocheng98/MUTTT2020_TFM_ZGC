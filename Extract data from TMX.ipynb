{
 "cells": [
  {
   "cell_type": "code",
   "execution_count": 3,
   "id": "timely-bradley",
   "metadata": {},
   "outputs": [],
   "source": [
    "import xml.etree.ElementTree as et\n",
    "tree = et.parse('All.tmx')"
   ]
  },
  {
   "cell_type": "code",
   "execution_count": 4,
   "id": "acting-reliance",
   "metadata": {},
   "outputs": [],
   "source": [
    "root = tree.getroot()[1]"
   ]
  },
  {
   "cell_type": "code",
   "execution_count": 5,
   "id": "supposed-bridge",
   "metadata": {},
   "outputs": [
    {
     "data": {
      "text/plain": [
       "<Element 'body' at 0x0000022651D68950>"
      ]
     },
     "execution_count": 5,
     "metadata": {},
     "output_type": "execute_result"
    }
   ],
   "source": [
    "root"
   ]
  },
  {
   "cell_type": "code",
   "execution_count": 6,
   "id": "elementary-rover",
   "metadata": {},
   "outputs": [],
   "source": [
    "import csv"
   ]
  },
  {
   "cell_type": "code",
   "execution_count": 7,
   "id": "rough-montgomery",
   "metadata": {},
   "outputs": [],
   "source": [
    "with open('All.csv','w+',newline='',encoding='utf-8') as file:\n",
    "    writer = csv.writer(file)\n",
    "    writer.writerow(['es','zh'])\n",
    "    np = {'xml':'http://www.w3.org/XML/1998/namespace'}\n",
    "    for tu in root:\n",
    "        es = tu.find('./tuv[@xml:lang=\"es-x-int-SDL\"]/seg',namespaces=np)\n",
    "        zh = tu.find('./tuv[@xml:lang=\"zh-CN\"]/seg',namespaces=np)\n",
    "        writer.writerow([es.text,zh.text])\n",
    "file.close()"
   ]
  }
 ],
 "metadata": {
  "kernelspec": {
   "display_name": "Python 3",
   "language": "python",
   "name": "python3"
  },
  "language_info": {
   "codemirror_mode": {
    "name": "ipython",
    "version": 3
   },
   "file_extension": ".py",
   "mimetype": "text/x-python",
   "name": "python",
   "nbconvert_exporter": "python",
   "pygments_lexer": "ipython3",
   "version": "3.9.1"
  }
 },
 "nbformat": 4,
 "nbformat_minor": 5
}
